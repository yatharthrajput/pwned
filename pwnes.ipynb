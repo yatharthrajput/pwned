{
 "cells": [
  {
   "cell_type": "code",
   "execution_count": 1,
   "metadata": {},
   "outputs": [
    {
     "ename": "FileNotFoundError",
     "evalue": "[Errno 2] No such file or directory: 'pwdlist.txt'",
     "output_type": "error",
     "traceback": [
      "\u001b[1;31m---------------------------------------------------------------------------\u001b[0m",
      "\u001b[1;31mFileNotFoundError\u001b[0m                         Traceback (most recent call last)",
      "\u001b[1;32m<ipython-input-1-bb76e8cb894d>\u001b[0m in \u001b[0;36m<module>\u001b[1;34m()\u001b[0m\n\u001b[0;32m     39\u001b[0m \u001b[1;33m\u001b[0m\u001b[0m\n\u001b[0;32m     40\u001b[0m \u001b[1;33m\u001b[0m\u001b[0m\n\u001b[1;32m---> 41\u001b[1;33m \u001b[1;32mwith\u001b[0m \u001b[0mopen\u001b[0m\u001b[1;33m(\u001b[0m\u001b[1;34m'pwdlist.txt'\u001b[0m\u001b[1;33m)\u001b[0m \u001b[1;32mas\u001b[0m \u001b[0mmy_file\u001b[0m\u001b[1;33m:\u001b[0m\u001b[1;33m\u001b[0m\u001b[0m\n\u001b[0m\u001b[0;32m     42\u001b[0m     \u001b[0mplist\u001b[0m\u001b[1;33m=\u001b[0m\u001b[0mmy_file\u001b[0m\u001b[1;33m.\u001b[0m\u001b[0mreadline\u001b[0m\u001b[1;33m(\u001b[0m\u001b[1;33m)\u001b[0m\u001b[1;33m.\u001b[0m\u001b[0msplit\u001b[0m\u001b[1;33m(\u001b[0m\u001b[1;33m)\u001b[0m\u001b[1;33m\u001b[0m\u001b[0m\n\u001b[0;32m     43\u001b[0m     \u001b[0mprint\u001b[0m\u001b[1;33m(\u001b[0m\u001b[0mplist\u001b[0m\u001b[1;33m)\u001b[0m\u001b[1;33m\u001b[0m\u001b[0m\n",
      "\u001b[1;31mFileNotFoundError\u001b[0m: [Errno 2] No such file or directory: 'pwdlist.txt'"
     ]
    }
   ],
   "source": [
    "import requests\n",
    "import hashlib\n",
    "import  sys\n",
    "import os\n",
    "\n",
    "\n",
    "\n",
    "def request_api_data(query_character):\n",
    "    url = 'https://api.pwnedpasswords.com/range/' + query_character\n",
    "    res = requests.get(url)\n",
    "    if res.status_code != 200:\n",
    "        raise RuntimeError(f'Error fetching {res.status_code}')\n",
    "    return res\n",
    "\n",
    "def get_password_leaks_count(hashes,hash_to_check):\n",
    "\n",
    "    hashes=(line.split(':') for line in hashes.text.splitlines())\n",
    "    for h,count in hashes:\n",
    "        if h==hash_to_check:\n",
    "            return count\n",
    "\n",
    "\n",
    "def pwned_api_check(password):\n",
    "    sha1password=hashlib.sha1(password.encode('utf-8')).hexdigest().upper()\n",
    "    first5_char,tail=sha1password[:5],sha1password[5:]\n",
    "    response=request_api_data(first5_char)\n",
    "    get_password_leaks_count(response,sha1password)\n",
    "    return get_password_leaks_count(response,sha1password)\n",
    "\n",
    "def main(plist):\n",
    "    for password in plist:\n",
    "\n",
    "        count=pwned_api_check(password)\n",
    "        if count:\n",
    "            print(f'{password} was found {count} times')\n",
    "        else:\n",
    "            print(f'{password} not found')\n",
    "    return  'done'\n",
    "\n",
    "\n",
    "with open('pwdlist.txt') as my_file:\n",
    "    plist=my_file.readline().split()\n",
    "    print(plist)\n",
    "main(plist)"
   ]
  },
  {
   "cell_type": "code",
   "execution_count": null,
   "metadata": {},
   "outputs": [],
   "source": []
  }
 ],
 "metadata": {
  "kernelspec": {
   "display_name": "Python 3",
   "language": "python",
   "name": "python3"
  },
  "language_info": {
   "codemirror_mode": {
    "name": "ipython",
    "version": 3
   },
   "file_extension": ".py",
   "mimetype": "text/x-python",
   "name": "python",
   "nbconvert_exporter": "python",
   "pygments_lexer": "ipython3",
   "version": "3.7.0"
  }
 },
 "nbformat": 4,
 "nbformat_minor": 2
}
